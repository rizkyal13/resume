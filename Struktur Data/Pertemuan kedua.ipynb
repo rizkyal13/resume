{
 "cells": [
  {
   "cell_type": "markdown",
   "metadata": {},
   "source": [
    "# Pertemuan kedua"
   ]
  },
  {
   "cell_type": "markdown",
   "metadata": {},
   "source": [
    "Stacks\n",
    "Stacks adalah salah satu materi struktur data. Memudahkan dalam mengatur suatu data agar lebih sistematis.\n",
    "\n",
    "Struktur Data memiliki istilah \"Last In First Out\", yaitu yang terakhir masuk, yang pertama keluar.\n",
    "\n",
    "bagian bagian dari stacks :\n",
    "- stacks(), inisiasi stacks yang kosong\n",
    "- push(data), penambahan data baru\n",
    "- pop(), penghapusan data/ dikeluarkan\n",
    "- (peek), hanya memberikan informasi suatu daya yang ada di atas\n",
    "- isEmpty(pengecekan isi wadah atau stack). (true = kosong)\n",
    "- size(), informasi untuk mengetahui jumlah data\n",
    "\n",
    "Pada proses matematika, bila terdapat tanda kurung (kurawal,siku, dan biasa) maka perlu diberlakukan push dan pop\n",
    "- Bila kurung buka, maka akan melakukan push\n",
    "- Bila kurung tutup, maka akan melakukan pop\n"
   ]
  },
  {
   "attachments": {
    "stacks.jpg": {
     "image/jpeg": "[encoded data removed]"
    }
   },
   "cell_type": "markdown",
   "metadata": {},
   "source": [
    "![stacks.jpg](attachment:stacks.jpg)\n"
   ]
  },
  {
   "cell_type": "code",
   "execution_count": 1,
   "metadata": {},
   "outputs": [],
   "source": [
    "#function\n",
    "def stack():\n",
    "    s=[]\n",
    "    return (s)\n",
    "def push(s,data):\n",
    "    s.append(data)\n",
    "def pop(s):\n",
    "    data = s.pop()\n",
    "    return(data)\n",
    "def peek(s):\n",
    "    return(s[len(s)-1])\n",
    "def isEmpty(s):\n",
    "    return(s==[])\n",
    "def size(s):\n",
    "    return(len(s))"
   ]
  },
  {
   "cell_type": "code",
   "execution_count": 4,
   "metadata": {},
   "outputs": [
    {
     "name": "stdout",
     "output_type": "stream",
     "text": [
      "Masukkan kata :bebek\n",
      "kebeb\n"
     ]
    }
   ],
   "source": [
    "#reverse kata\n",
    "\n",
    "kata =input(\"Masukkan kata :\")\n",
    "st =stack()\n",
    "hasil = ''\n",
    "for i in range(len(kata)):\n",
    "    push(st,kata[i])\n",
    "for i in range(len(kata)):\n",
    "    hasil = hasil+pop(st)\n",
    "print(hasil)"
   ]
  },
  {
   "cell_type": "code",
   "execution_count": null,
   "metadata": {},
   "outputs": [],
   "source": []
  }
 ],
 "metadata": {
  "kernelspec": {
   "display_name": "Python 3",
   "language": "python",
   "name": "python3"
  },
  "language_info": {
   "codemirror_mode": {
    "name": "ipython",
    "version": 3
   },
   "file_extension": ".py",
   "mimetype": "text/x-python",
   "name": "python",
   "nbconvert_exporter": "python",
   "pygments_lexer": "ipython3",
   "version": "3.7.0"
  }
 },
 "nbformat": 4,
 "nbformat_minor": 2
}
