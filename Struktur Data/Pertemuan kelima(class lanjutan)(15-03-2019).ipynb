{
 "cells": [
  {
   "cell_type": "code",
   "execution_count": 1,
   "metadata": {},
   "outputs": [],
   "source": [
    "class BilanganKompleks:\n",
    "    def __init__(self,a,b):\n",
    "        self.real=a\n",
    "        self.im=b\n",
    "    def display(self):\n",
    "        #print(self.real, '+', self.im,'i')\n",
    "        temp=str(self.real)+'+'+str(self.im)+'i'\n",
    "        return temp"
   ]
  },
  {
   "cell_type": "code",
   "execution_count": 2,
   "metadata": {},
   "outputs": [
    {
     "name": "stdout",
     "output_type": "stream",
     "text": [
      "4+5i\n"
     ]
    }
   ],
   "source": [
    "data=BilanganKompleks(4,5)\n",
    "print(data.display())"
   ]
  },
  {
   "cell_type": "code",
   "execution_count": 4,
   "metadata": {},
   "outputs": [
    {
     "name": "stdout",
     "output_type": "stream",
     "text": [
      "<bound method BilanganKompleks.display of <__main__.BilanganKompleks object at 0x0000019C14505240>>\n"
     ]
    }
   ],
   "source": [
    "data=BilanganKompleks(4,6)\n",
    "print(data.display)\n",
    "#menjelaskan bahwasannya merupakan BilanganKompleks"
   ]
  },
  {
   "cell_type": "code",
   "execution_count": 5,
   "metadata": {},
   "outputs": [
    {
     "name": "stdout",
     "output_type": "stream",
     "text": [
      "4 + 6 i\n"
     ]
    }
   ],
   "source": [
    "data = BilanganKompleks(4,6)\n",
    "print(data.real, '+', data.im, 'i')\n",
    "#default print string"
   ]
  },
  {
   "cell_type": "code",
   "execution_count": 6,
   "metadata": {},
   "outputs": [
    {
     "name": "stdout",
     "output_type": "stream",
     "text": [
      "[3, 4, 9, 1]\n"
     ]
    }
   ],
   "source": [
    "b = 7.5\n",
    "c = [3,4,9,1]\n",
    "print(c)\n",
    "#String"
   ]
  },
  {
   "cell_type": "code",
   "execution_count": 8,
   "metadata": {},
   "outputs": [
    {
     "data": {
      "text/plain": [
       "__main__.BilanganKompleks"
      ]
     },
     "execution_count": 8,
     "metadata": {},
     "output_type": "execute_result"
    }
   ],
   "source": [
    "type(data)\n",
    "#Bahwasannya tipe data sekarang adalah BilanganKompleks"
   ]
  },
  {
   "cell_type": "markdown",
   "metadata": {},
   "source": [
    "# Override function.\n"
   ]
  },
  {
   "cell_type": "markdown",
   "metadata": {},
   "source": [
    "mendefinisikan kembali fungsi-fungsi umum yang sudah ada, agar sesuai dengan kebutuhan programmer\n",
    "\n",
    "dengan __str__"
   ]
  },
  {
   "cell_type": "code",
   "execution_count": 9,
   "metadata": {},
   "outputs": [],
   "source": [
    "class BilanganKompleks:\n",
    "    def __init__(self,a,b):\n",
    "        self.real=a\n",
    "        self.im=b\n",
    "    def display(self):\n",
    "        #print(self.real, '+', self.im,'i')\n",
    "        temp=str(self.real)+'+'+str(self.im)+'i'\n",
    "        return temp\n",
    "    def __str__(self):\n",
    "        return str(self.real)+'+'+str(self.im)+'i'"
   ]
  },
  {
   "cell_type": "code",
   "execution_count": 10,
   "metadata": {},
   "outputs": [
    {
     "name": "stdout",
     "output_type": "stream",
     "text": [
      "4+6i\n",
      "4+6i\n"
     ]
    }
   ],
   "source": [
    "data1=BilanganKompleks(4,6)\n",
    "data2=BilanganKompleks(8,3)\n",
    "print(data1.display())\n",
    "print(data1)\n",
    "\n"
   ]
  },
  {
   "cell_type": "markdown",
   "metadata": {},
   "source": [
    "# cara1"
   ]
  },
  {
   "cell_type": "code",
   "execution_count": 11,
   "metadata": {},
   "outputs": [],
   "source": [
    "class BilanganKompleks:\n",
    "    def __init__(self,a,b):\n",
    "        self.real=a\n",
    "        self.im=b\n",
    "    def display(self):\n",
    "        #print(self.real, '+', self.im,'i')\n",
    "        temp=str(self.real)+'+'+str(self.im)+'i'\n",
    "        return temp\n",
    "    def __str__(self):\n",
    "        return str(self.real)+'+'+str(self.im)+'i'\n",
    "    def addData(self,bil1,bil2):\n",
    "        self.real=bil1.real+bil2.real\n",
    "        self.im=bil1.im+bil2.im"
   ]
  },
  {
   "cell_type": "code",
   "execution_count": 12,
   "metadata": {},
   "outputs": [],
   "source": [
    "bil1=BilanganKompleks(4,6)\n",
    "bil2=BilanganKompleks(2,9)\n",
    "\n",
    "data3 = BilanganKompleks(3,10)\n",
    "data3.addData(bil1,bil2)\n",
    "\n",
    "data4=BilanganKompleks(0,0)\n",
    "data4.addData(bil1,bil2)"
   ]
  },
  {
   "cell_type": "code",
   "execution_count": 13,
   "metadata": {},
   "outputs": [
    {
     "name": "stdout",
     "output_type": "stream",
     "text": [
      "6+15i\n",
      "6+15i\n"
     ]
    }
   ],
   "source": [
    "print(data3)\n",
    "print(data4)"
   ]
  },
  {
   "cell_type": "markdown",
   "metadata": {},
   "source": [
    "# Cara 2"
   ]
  },
  {
   "cell_type": "code",
   "execution_count": 20,
   "metadata": {},
   "outputs": [],
   "source": [
    "class BilanganKompleks:\n",
    "    def __init__(self,a,b):\n",
    "        self.real=a\n",
    "        self.im=b\n",
    "    def display(self):\n",
    "        #print(self.real, '+', self.im,'i')\n",
    "        temp=str(self.real)+'+'+str(self.im)+'i'\n",
    "        return temp\n",
    "    def __str__(self):\n",
    "        return str(self.real)+'+'+str(self.im)+'i'\n",
    "    \n",
    "    def addKompleks(self,ob):\n",
    "        a=self.real+obj.real\n",
    "        b=self.im+obj.im\n",
    "        return BilanganKompleks(a,b)"
   ]
  },
  {
   "cell_type": "code",
   "execution_count": 21,
   "metadata": {},
   "outputs": [],
   "source": [
    "data1=BilanganKompleks(4,6)\n",
    "data2=BilanganKompleks(4,6)"
   ]
  }
 ],
 "metadata": {
  "kernelspec": {
   "display_name": "Python 3",
   "language": "python",
   "name": "python3"
  },
  "language_info": {
   "codemirror_mode": {
    "name": "ipython",
    "version": 3
   },
   "file_extension": ".py",
   "mimetype": "text/x-python",
   "name": "python",
   "nbconvert_exporter": "python",
   "pygments_lexer": "ipython3",
   "version": "3.7.0"
  }
 },
 "nbformat": 4,
 "nbformat_minor": 2
}
