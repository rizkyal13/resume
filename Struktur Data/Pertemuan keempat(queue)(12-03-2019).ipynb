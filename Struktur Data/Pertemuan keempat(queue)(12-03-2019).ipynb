{
 "cells": [
  {
   "cell_type": "markdown",
   "metadata": {},
   "source": [
    "# Queue"
   ]
  },
  {
   "cell_type": "code",
   "execution_count": 1,
   "metadata": {},
   "outputs": [],
   "source": [
    "def createQueue():\n",
    "    q=[]\n",
    "    return(q)\n",
    "def enqueue(q,data):\n",
    "    q.insert(0,data)\n",
    "    return(q)\n",
    "def dequeue(q):\n",
    "    data = q.pop()\n",
    "    return(data)\n",
    "def isEmpty(q):\n",
    "    return(q==[])\n",
    "def size(q):\n",
    "    return(len(q))"
   ]
  },
  {
   "cell_type": "code",
   "execution_count": 2,
   "metadata": {},
   "outputs": [
    {
     "name": "stdout",
     "output_type": "stream",
     "text": [
      "['D', 'C', 'B', 'A']\n"
     ]
    }
   ],
   "source": [
    "'''gameQueue=createQueue()\n",
    "gameQueue=['A', 'B', 'C', 'D', 'E']\n",
    "count=5\n",
    "while size(gameQueue)>1:\n",
    "    for i in range(count):\n",
    "        enqueue(gameQueue, dequeue(gameQueue))\n",
    "        print(str(i), ';', gameQueue)\n",
    "    dequeue (gameQueue)\n",
    "print('Pemenangnya adalah =', dequeue(gameQueue))'''\n",
    "\n",
    "def game(a,hitung):\n",
    "    q=createQueue()\n",
    "    for i in a:\n",
    "        enqueue(q,i)\n",
    "    print(q)\n",
    "data = ['A','B','C','D']\n",
    "game(data,3)"
   ]
  },
  {
   "cell_type": "markdown",
   "metadata": {},
   "source": [
    "# Deques"
   ]
  },
  {
   "cell_type": "raw",
   "metadata": {},
   "source": [
    "Deques sama dengan queue, hanya saja Deques  front bisa hapus, bisa nambah data.\n",
    "rear bisa hapus, bisa nambah data. \n",
    "Implementasi di list = front berada di index ke-0, dan rear berada di index terakhir"
   ]
  },
  {
   "cell_type": "code",
   "execution_count": 5,
   "metadata": {},
   "outputs": [],
   "source": [
    "def createDeque():\n",
    "    d=[]\n",
    "    return(d)\n",
    "def addFront(d,data):\n",
    "    d.insert(0,data)\n",
    "    return(d)\n",
    "def addRear(d,data):\n",
    "    d.append(data)\n",
    "    return(d)\n",
    "def removeRear(d):\n",
    "    data=d.pop()\n",
    "    return(data)\n",
    "def removeFront(d):\n",
    "    data=d.pop(0)\n",
    "    return(data)\n",
    "def isEmpty(d):\n",
    "    return(d==[])\n",
    "def size(d):\n",
    "    retunr(len(d))"
   ]
  },
  {
   "cell_type": "markdown",
   "metadata": {},
   "source": [
    "# Tipe Data baru (class)"
   ]
  },
  {
   "cell_type": "raw",
   "metadata": {},
   "source": [
    "Tipe data class ada buatan sendiri dimana tidak hanya berupa nilai, tapi ada juga yang namanya fungsi\n",
    "\n",
    "\n",
    "Ada banyak istilah dalam pemrograman\n",
    "\n",
    "class = tidak hanyak berupa state atau property, namun juga berisi method\n",
    "object = suatu variabel dengan tipe data class (instance)\n",
    "state/ property = bagian data dalam suatu class\n",
    "method = fungsi di dalam class\n",
    "\n",
    "\n",
    "\n",
    "\n",
    "constructor: \n",
    "def __init__()\n"
   ]
  },
  {
   "cell_type": "raw",
   "metadata": {},
   "source": [
    "contoh:\n",
    "5 + 7i (matematika bilangan kompleks)\n",
    "\n",
    "\n",
    "proses class namanya -INSTANSIASI-\n",
    "yang dieksekusi duluan adalah bagian constructor\n",
    "contoh manggil:\n",
    "(5,7)"
   ]
  },
  {
   "cell_type": "code",
   "execution_count": 7,
   "metadata": {},
   "outputs": [],
   "source": [
    "class BilanganKompleks:\n",
    "    def __init__(self,a,b):\n",
    "        self.real=a\n",
    "        self.im=b\n",
    "    def display(self):\n",
    "        #print(self.real, '+', self.im,'i')\n",
    "        temp=str(self.real)+'+'+str(self.im)+'i'\n",
    "        return temp"
   ]
  },
  {
   "cell_type": "code",
   "execution_count": 9,
   "metadata": {},
   "outputs": [
    {
     "name": "stdout",
     "output_type": "stream",
     "text": [
      "5+7i\n"
     ]
    }
   ],
   "source": [
    "data=BilanganKompleks(5,7)\n",
    "print(data.display())"
   ]
  },
  {
   "cell_type": "code",
   "execution_count": null,
   "metadata": {},
   "outputs": [],
   "source": []
  }
 ],
 "metadata": {
  "kernelspec": {
   "display_name": "Python 3",
   "language": "python",
   "name": "python3"
  },
  "language_info": {
   "codemirror_mode": {
    "name": "ipython",
    "version": 3
   },
   "file_extension": ".py",
   "mimetype": "text/x-python",
   "name": "python",
   "nbconvert_exporter": "python",
   "pygments_lexer": "ipython3",
   "version": "3.7.0"
  }
 },
 "nbformat": 4,
 "nbformat_minor": 2
}
