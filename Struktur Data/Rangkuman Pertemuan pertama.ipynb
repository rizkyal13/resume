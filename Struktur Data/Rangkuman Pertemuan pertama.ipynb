{
 "cells": [
  {
   "cell_type": "markdown",
   "metadata": {},
   "source": [
    "# Rangkuman Pertemuan ke-1"
   ]
  },
  {
   "cell_type": "code",
   "execution_count": 4,
   "metadata": {},
   "outputs": [
    {
     "name": "stdout",
     "output_type": "stream",
     "text": [
      "Masukkan angka: 10\n",
      "1 adalah bilangan ganjil\n",
      "2 adalah bilangan genap\n",
      "3 adalah bilangan ganjil\n",
      "4 adalah bilangan genap\n",
      "5 adalah bilangan ganjil\n",
      "6 adalah bilangan genap\n",
      "7 adalah bilangan ganjil\n",
      "8 adalah bilangan genap\n",
      "9 adalah bilangan ganjil\n"
     ]
    }
   ],
   "source": [
    "#menentukan bilangan ganjil genap\n",
    "x = int(input(\"Masukkan angka: \"))\n",
    "for i in range(1,x):\n",
    "    if i%2 == 0:\n",
    "        print(i, \"adalah bilangan genap\")\n",
    "    else:\n",
    "        print(i, \"adalah bilangan ganjil\")\n"
   ]
  },
  {
   "cell_type": "code",
   "execution_count": 5,
   "metadata": {},
   "outputs": [
    {
     "name": "stdout",
     "output_type": "stream",
     "text": [
      "Jumlah bilangan genap = 6\n",
      "1 .  0\n",
      "2 .  2\n",
      "3 .  4\n",
      "4 .  6\n",
      "5 .  8\n",
      "6 .  10\n"
     ]
    }
   ],
   "source": [
    "# Algoritma Iteration - Menampilkan sejumlah n bilangan genap\n",
    "\n",
    "num=int(input('Jumlah bilangan genap = '))\n",
    "count=1\n",
    "i=0\n",
    "while count<=num:\n",
    "    if i%2==0:\n",
    "        print(count,'. ',i)\n",
    "        count=count+1 \n",
    "    i=i+1\n"
   ]
  },
  {
   "cell_type": "code",
   "execution_count": 7,
   "metadata": {},
   "outputs": [
    {
     "name": "stdout",
     "output_type": "stream",
     "text": [
      "Masukkan angka:7\n",
      "7 adalah bilangan prima\n"
     ]
    }
   ],
   "source": [
    "#bilangan prima\n",
    "x = int(input(\"Masukkan angka:\"))\n",
    "if num>1:\n",
    "    for i in range(2,x):\n",
    "        if(x % i) == 0:\n",
    "            print(x, \"bukan bilangan prima\")\n",
    "            break\n",
    "    else:\n",
    "        print(x, \"adalah bilangan prima\")"
   ]
  },
  {
   "cell_type": "code",
   "execution_count": 11,
   "metadata": {},
   "outputs": [
    {
     "name": "stdout",
     "output_type": "stream",
     "text": [
      "Masukkan angka: 4\n",
      "24\n"
     ]
    }
   ],
   "source": [
    "#bilangan faktorial\n",
    "x = int(input(\"Masukkan angka: \"))\n",
    "c = int(x)\n",
    "\n",
    "for i in range(c):\n",
    "    if i == 0:\n",
    "        c=c*1\n",
    "    else:\n",
    "        c=c*i\n",
    "print(c)"
   ]
  },
  {
   "cell_type": "code",
   "execution_count": 12,
   "metadata": {},
   "outputs": [
    {
     "name": "stdout",
     "output_type": "stream",
     "text": [
      "d\n",
      "Waldo\n"
     ]
    }
   ],
   "source": [
    "#list\n",
    "data=\"Where is Waldo ?\"\n",
    "print(data[12]) # Satu karakter\n",
    "temp=data[9:14] # lima karakter\n",
    "print(temp)"
   ]
  },
  {
   "cell_type": "code",
   "execution_count": 14,
   "metadata": {},
   "outputs": [
    {
     "name": "stdout",
     "output_type": "stream",
     "text": [
      "[1, 2, 'python', 0.8, 'numpy']\n",
      "2\n",
      "[2, 'python', 0.8]\n"
     ]
    }
   ],
   "source": [
    "#list bisa diisi oleh semua jenis tipe data\n",
    "#memanggil salah satu index atau semuanya\n",
    "arrData=[1,2,'python',0.8,'numpy']\n",
    "print (arrData)\n",
    "print(arrData[1])\n",
    "print(arrData[1:4])"
   ]
  },
  {
   "cell_type": "code",
   "execution_count": 13,
   "metadata": {},
   "outputs": [
    {
     "name": "stdout",
     "output_type": "stream",
     "text": [
      "(1, 2, 'python', 0.8, 'numpy')\n",
      "python\n",
      "(2, 'python')\n"
     ]
    }
   ],
   "source": [
    "#Tuple\n",
    "tupData=(1,2,'python',0.8,'numpy')\n",
    "print(tupData)\n",
    "print(tupData[2])\n",
    "print(tupData[1:3])"
   ]
  },
  {
   "cell_type": "code",
   "execution_count": null,
   "metadata": {},
   "outputs": [],
   "source": [
    "#Tuple tidak dapat diubah\n",
    "tupData=(1,2,'python',0.8,'numpy')\n",
    "print(tupData)\n",
    "print(tupData[2])\n",
    "tupData[2]='Java'\n",
    "print(tupData)"
   ]
  },
  {
   "cell_type": "code",
   "execution_count": 15,
   "metadata": {},
   "outputs": [
    {
     "name": "stdout",
     "output_type": "stream",
     "text": [
      "{'001': 'Ranti', '002': 'Diana', '003': 'Budi', '004': 'Eri'}\n"
     ]
    }
   ],
   "source": [
    "#Dictionary\n",
    "#memudahkan dalam pengelompokan ketika memanggil\n",
    "studData={'001':'Ranti','002':'Diana','003':'Budi','004':'Eri'}\n",
    "print(studData)"
   ]
  },
  {
   "cell_type": "code",
   "execution_count": null,
   "metadata": {},
   "outputs": [],
   "source": []
  }
 ],
 "metadata": {
  "kernelspec": {
   "display_name": "Python 3",
   "language": "python",
   "name": "python3"
  },
  "language_info": {
   "codemirror_mode": {
    "name": "ipython",
    "version": 3
   },
   "file_extension": ".py",
   "mimetype": "text/x-python",
   "name": "python",
   "nbconvert_exporter": "python",
   "pygments_lexer": "ipython3",
   "version": "3.7.0"
  }
 },
 "nbformat": 4,
 "nbformat_minor": 2
}
